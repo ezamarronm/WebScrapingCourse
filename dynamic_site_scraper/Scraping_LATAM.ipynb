{
 "cells": [
  {
   "cell_type": "markdown",
   "metadata": {},
   "source": [
    "# Importing libraries"
   ]
  },
  {
   "cell_type": "code",
   "execution_count": 1,
   "metadata": {},
   "outputs": [],
   "source": [
    "import requests\n",
    "from bs4 import BeautifulSoup as bs\n",
    "from selenium import webdriver\n",
    "from time import sleep\n",
    "import pandas as pd\n",
    "\n",
    "from selenium.webdriver.support.ui import WebDriverWait\n",
    "from selenium.webdriver.support import expected_conditions as EC\n",
    "from selenium.webdriver.common.by import By\n",
    "from selenium.common.exceptions import TimeoutException"
   ]
  },
  {
   "cell_type": "markdown",
   "metadata": {},
   "source": [
    "# Functions"
   ]
  },
  {
   "cell_type": "code",
   "execution_count": 2,
   "metadata": {},
   "outputs": [],
   "source": [
    "def get_prices(flight):\n",
    "    class_price = '\"flight-container\"'\n",
    "    button_price = flight.find_element_by_xpath(f'.//div[@class={class_price}]/button')\n",
    "    button_price.click()\n",
    "    #flight.click()\n",
    "    #classes names to get fares\n",
    "    class_fares_container = '\"fares-table-container\"'\n",
    "    class_td = '\"fare-\"'\n",
    "    \n",
    "    #get fares objects\n",
    "    fares = flight.find_elements_by_xpath(f'//div[@class = {class_fares_container}]//tfoot//td[contains(@class, {class_td})]')\n",
    "    fares = [{'fare_object': fare} for fare in fares]\n",
    "    \n",
    "    #Classes names to get the fares data\n",
    "    class_currency ='\"currency-symbol\"' \n",
    "    class_value = '\"value\"'\n",
    "    class_name = '\"radio\"'\n",
    "    \n",
    "    #Get fares data\n",
    "    for fare in fares:\n",
    "        fare['name'] = fare['fare_object'].find_element_by_xpath(f'.//div[@class = {class_name}]/label').get_attribute('for')\n",
    "        fare['currency'] = fare['fare_object'].find_element_by_xpath(f'.//span[@class = {class_currency}]').text\n",
    "        fare['value'] = fare['fare_object'].find_element_by_xpath(f'.//span[@class = {class_value}]').text    \n",
    "    for fare in fares:\n",
    "        del fare['fare_object']\n",
    "    button_price.click()\n",
    "\n",
    "    return fares\n",
    "#print(get_prices(flight))"
   ]
  },
  {
   "cell_type": "code",
   "execution_count": 3,
   "metadata": {},
   "outputs": [],
   "source": [
    "def get_stops(flight):\n",
    "    ##finds the stops button\n",
    "    class_flight_stops = '\"flight-summary-stops-description\"'\n",
    "    button_stops = flight.find_element_by_xpath(f'.//div[@class={class_flight_stops}]/button')\n",
    "    button_stops.click()\n",
    "    ##gets the stops and connections\n",
    "    \n",
    "    #classes names\n",
    "    class_segments = '\"sc-hZSUBg gfeULV\"'\n",
    "    class_each_segment = '\"sc-cLQEGU hyoued\"'\n",
    "    class_connections = '\"sc-cLQEGU dnKRNG\"'\n",
    "    \n",
    "    #finds stops and connections\n",
    "    stops = flight.find_elements_by_xpath(f'//div[@class={class_segments}]/div[@class={class_each_segment}]')\n",
    "    connections = flight.find_elements_by_xpath(f'//div[@class={class_segments}]/div[@class={class_connections}]')    \n",
    "\n",
    "\n",
    "    ## Gets stops information\n",
    "    #class names\n",
    "    class_departure = '\"sc-bwCtUz iybVbT\"'\n",
    "    class_arrival = '\"sc-bwCtUz iybVbT\"'\n",
    "    class_flight_duration = '\"sc-esjQYD dMquDU\"'\n",
    "    class_scale_duration = '\"sc-esjQYD dMquDU\"'\n",
    "    class_airline_details = '\"airline-flight-details\"'\n",
    "    class_plane_number = '\"sr-only\"'\n",
    "    class_plane_model = '\"sc-gzOgki uTyOl\"'\n",
    "\n",
    "    #Adding stops into a dictionary\n",
    "    stops_data = {}\n",
    "    stops_data = [{'stop_object': stop} for stop in stops]\n",
    "\n",
    "    #Adding connections into the dictionary\n",
    "    for n in range(len(stops)):\n",
    "        try:\n",
    "            stops_data[n]['connection_object'] = connections[n]\n",
    "        except:\n",
    "             stops_data[n]['connection_object'] = None\n",
    "    #Adding stops information into the dictionary\n",
    "    for stop in stops_data:\n",
    "        stop['departure_city'] = stop['stop_object'].find_element_by_xpath(f'.//div[@class={class_departure}]/abbr').text\n",
    "        stop['departure_time'] = stop['stop_object'].find_element_by_xpath(f'.//div[@class={class_departure}]/time').get_attribute('datetime')\n",
    "        stop['arrival_city'] = stop['stop_object'].find_element_by_xpath(f'.//div[@class={class_arrival}]/abbr').text\n",
    "        stop['arrival_time'] = stop['stop_object'].find_element_by_xpath(f'.//div[@class={class_arrival}]/time').get_attribute('datetime')\n",
    "        stop['flight_duration'] = stop['stop_object'].find_element_by_xpath(f'.//span[@class={class_flight_duration}]/time').get_attribute('datetime')\n",
    "        stop['plane_number'] = stop['stop_object'].find_element_by_xpath(f'.//div[@class={class_airline_details}]/span[@class={class_plane_number}]').text\n",
    "        stop['plane_model'] = stop['stop_object'].find_element_by_xpath(f'.//div[@class={class_airline_details}]/span[@class={class_plane_model}]').text\n",
    "        try:\n",
    "            stop['scale_duration'] = stop['connection_object'].find_element_by_xpath(f'.//span[@class={class_scale_duration}]/time').get_attribute('datetime')\n",
    "        except:\n",
    "            stop['scale_duration']= '0:00'\n",
    "        #deletes stop and connection object\n",
    "        del stop['stop_object']\n",
    "        del stop['connection_object']\n",
    "    try:\n",
    "        driverChrome.find_element_by_xpath('//button[@class=\"close\"]').click()\n",
    "    except:\n",
    "        pass\n",
    "    return stops_data\n",
    "#print(get_stops(flight))"
   ]
  },
  {
   "cell_type": "code",
   "execution_count": 4,
   "metadata": {},
   "outputs": [],
   "source": [
    "def get_timing(flight):\n",
    "    departure_time = flight.find_element_by_xpath('.//div[@class=\"departure\"]/time').get_attribute('datetime')\n",
    "    arrival_time = flight.find_element_by_xpath('.//div[@class=\"arrival\"]/time').get_attribute('datetime')\n",
    "    duration = flight.find_element_by_xpath('.//span[@class=\"duration\"]/time').get_attribute('datetime')\n",
    "    return {'departure_time': departure_time, 'arrival_time':arrival_time,duration:'duration'}"
   ]
  },
  {
   "cell_type": "code",
   "execution_count": 5,
   "metadata": {
    "scrolled": true
   },
   "outputs": [],
   "source": [
    "def get_info(driver):\n",
    "    button_close = driver.find_element_by_xpath('//button[@class=\"close\"]')\n",
    "    button_close.click()\n",
    "    \n",
    "    sleep(3)\n",
    "    flights = driver.find_elements_by_xpath('//li[@class=\"flight\"]')\n",
    "    n = 1\n",
    "    print(f'{len(flights)} found, starting to scrap')\n",
    "    info = []\n",
    "    for flight in flights:\n",
    "        print(f'\\n***Getting information of flight {n}***')\n",
    "        times = get_timing(flight)\n",
    "        prices = get_prices(flight)\n",
    "        stops = get_stops(flight)\n",
    "        info.append({'times': times, 'prices':prices, 'stops':stops})\n",
    "        n+=1\n",
    "    return info\n"
   ]
  },
  {
   "cell_type": "markdown",
   "metadata": {},
   "source": [
    "# Main"
   ]
  },
  {
   "cell_type": "code",
   "execution_count": 6,
   "metadata": {
    "scrolled": true
   },
   "outputs": [
    {
     "name": "stdout",
     "output_type": "stream",
     "text": [
      "Page loaded\n",
      "11 found, starting to scrap\n",
      "\n",
      "***Getting information of flight 1***\n",
      "\n",
      "***Getting information of flight 2***\n",
      "\n",
      "***Getting information of flight 3***\n",
      "\n",
      "***Getting information of flight 4***\n",
      "\n",
      "***Getting information of flight 5***\n",
      "\n",
      "***Getting information of flight 6***\n",
      "\n",
      "***Getting information of flight 7***\n",
      "\n",
      "***Getting information of flight 8***\n",
      "\n",
      "***Getting information of flight 9***\n",
      "\n",
      "***Getting information of flight 10***\n",
      "\n",
      "***Getting information of flight 11***\n",
      "[{'times': {'departure_time': '18:00', 'arrival_time': '05:20', 'PT9H20M': 'duration'}, 'prices': [{'name': 'PROMO', 'currency': 'US$', 'value': '264'}, {'name': 'LIGHT', 'currency': 'US$', 'value': '274'}, {'name': 'PLUS', 'currency': 'US$', 'value': '305'}, {'name': 'TOP', 'currency': 'US$', 'value': '1,452'}], 'stops': [{'departure_city': 'MEX', 'departure_time': '18:00', 'arrival_city': 'MEX', 'arrival_time': '18:00', 'flight_duration': '9:20', 'plane_number': 'Flight', 'plane_model': 'Airbus 350-900', 'scale_duration': '0:00'}]}, {'times': {'departure_time': '16:10', 'arrival_time': '07:15', 'PT13H5M': 'duration'}, 'prices': [{'name': 'PROMO', 'currency': 'US$', 'value': '264'}, {'name': 'LIGHT', 'currency': 'US$', 'value': '274'}, {'name': 'PLUS', 'currency': 'US$', 'value': '305'}, {'name': 'TOP', 'currency': 'US$', 'value': '1,101'}], 'stops': [{'departure_city': 'MEX', 'departure_time': '16:10', 'arrival_city': 'MEX', 'arrival_time': '16:10', 'flight_duration': '5:50', 'plane_number': 'Flight', 'plane_model': 'Boeing 767-300', 'scale_duration': '2:10'}, {'departure_city': 'LIM', 'departure_time': '00:10', 'arrival_city': 'LIM', 'arrival_time': '00:10', 'flight_duration': '5:5', 'plane_number': 'Flight', 'plane_model': 'Airbus 320-200', 'scale_duration': '0:00'}]}, {'times': {'departure_time': '19:30', 'arrival_time': '10:50', 'PT13H20M': 'duration'}, 'prices': [{'name': 'PROMO', 'currency': 'US$', 'value': '264'}, {'name': 'LIGHT', 'currency': 'US$', 'value': '274'}, {'name': 'PLUS', 'currency': 'US$', 'value': '305'}, {'name': 'TOP', 'currency': 'US$', 'value': '1,452'}], 'stops': [{'departure_city': 'MEX', 'departure_time': '19:30', 'arrival_city': 'MEX', 'arrival_time': '19:30', 'flight_duration': '8:10', 'plane_number': 'Flight', 'plane_model': 'Boeing 787-9', 'scale_duration': '1:20'}, {'departure_city': 'SCL', 'departure_time': '06:00', 'arrival_city': 'SCL', 'arrival_time': '06:00', 'flight_duration': '3:50', 'plane_number': 'Flight', 'plane_model': 'Airbus 320-200', 'scale_duration': '0:00'}]}, {'times': {'departure_time': '19:30', 'arrival_time': '12:45', 'PT15H15M': 'duration'}, 'prices': [{'name': 'PROMO', 'currency': '', 'value': '264'}, {'name': 'LIGHT', 'currency': 'US$', 'value': '274'}, {'name': 'PLUS', 'currency': 'US$', 'value': '305'}, {'name': 'TOP', 'currency': 'US$', 'value': '1,452'}], 'stops': [{'departure_city': 'MEX', 'departure_time': '19:30', 'arrival_city': 'MEX', 'arrival_time': '19:30', 'flight_duration': '8:10', 'plane_number': 'Flight', 'plane_model': 'Boeing 787-9', 'scale_duration': '3:25'}, {'departure_city': 'SCL', 'departure_time': '08:05', 'arrival_city': 'SCL', 'arrival_time': '08:05', 'flight_duration': '3:40', 'plane_number': 'Flight', 'plane_model': 'Boeing 787-9', 'scale_duration': '0:00'}]}, {'times': {'departure_time': '19:30', 'arrival_time': '16:20', 'PT18H50M': 'duration'}, 'prices': [{'name': 'PROMO', 'currency': 'US$', 'value': '264'}, {'name': 'LIGHT', 'currency': 'US$', 'value': '274'}, {'name': 'PLUS', 'currency': 'US$', 'value': '305'}, {'name': 'TOP', 'currency': 'US$', 'value': '1,452'}], 'stops': [{'departure_city': 'MEX', 'departure_time': '19:30', 'arrival_city': 'MEX', 'arrival_time': '19:30', 'flight_duration': '8:10', 'plane_number': 'Flight', 'plane_model': 'Boeing 787-9', 'scale_duration': '6:55'}, {'departure_city': 'SCL', 'departure_time': '11:35', 'arrival_city': 'SCL', 'arrival_time': '11:35', 'flight_duration': '3:45', 'plane_number': 'Flight', 'plane_model': 'Boeing 777-300', 'scale_duration': '0:00'}]}, {'times': {'departure_time': '19:30', 'arrival_time': '19:35', 'PT22H5M': 'duration'}, 'prices': [{'name': 'PROMO', 'currency': 'US$', 'value': '264'}, {'name': 'LIGHT', 'currency': 'US$', 'value': '274'}, {'name': 'PLUS', 'currency': 'US$', 'value': '305'}, {'name': 'TOP', 'currency': 'US$', 'value': '1,452'}], 'stops': [{'departure_city': 'MEX', 'departure_time': '19:30', 'arrival_city': 'MEX', 'arrival_time': '19:30', 'flight_duration': '8:10', 'plane_number': 'Flight', 'plane_model': 'Boeing 787-9', 'scale_duration': '10:5'}, {'departure_city': 'SCL', 'departure_time': '14:45', 'arrival_city': 'SCL', 'arrival_time': '14:45', 'flight_duration': '3:50', 'plane_number': 'Flight', 'plane_model': 'Airbus 321', 'scale_duration': '0:00'}]}, {'times': {'departure_time': '16:10', 'arrival_time': '16:30', 'PT22H20M': 'duration'}, 'prices': [{'name': 'PROMO', 'currency': 'US$', 'value': '264'}, {'name': 'LIGHT', 'currency': 'US$', 'value': '274'}, {'name': 'PLUS', 'currency': 'US$', 'value': '305'}, {'name': 'TOP', 'currency': 'US$', 'value': '1,101'}], 'stops': [{'departure_city': 'MEX', 'departure_time': '16:10', 'arrival_city': 'MEX', 'arrival_time': '16:10', 'flight_duration': '5:50', 'plane_number': 'Flight', 'plane_model': 'Boeing 767-300', 'scale_duration': '11:35'}, {'departure_city': 'LIM', 'departure_time': '09:35', 'arrival_city': 'LIM', 'arrival_time': '09:35', 'flight_duration': '4:55', 'plane_number': 'Flight', 'plane_model': 'Boeing 767-300', 'scale_duration': '0:00'}]}, {'times': {'departure_time': '19:30', 'arrival_time': '21:10', 'PT23H40M': 'duration'}, 'prices': [{'name': 'PROMO', 'currency': 'US$', 'value': '264'}, {'name': 'LIGHT', 'currency': 'US$', 'value': '274'}, {'name': 'PLUS', 'currency': 'US$', 'value': '305'}, {'name': 'TOP', 'currency': 'US$', 'value': '1,452'}], 'stops': [{'departure_city': 'MEX', 'departure_time': '19:30', 'arrival_city': 'MEX', 'arrival_time': '19:30', 'flight_duration': '8:10', 'plane_number': 'Flight', 'plane_model': 'Boeing 787-9', 'scale_duration': '11:50'}, {'departure_city': 'SCL', 'departure_time': '16:30', 'arrival_city': 'SCL', 'arrival_time': '16:30', 'flight_duration': '3:40', 'plane_number': 'Flight', 'plane_model': 'Boeing 787-800', 'scale_duration': '0:00'}]}, {'times': {'departure_time': '16:10', 'arrival_time': '10:50', 'PT16H40M': 'duration'}, 'prices': [{'name': 'PROMO', 'currency': 'US$', 'value': '264'}, {'name': 'LIGHT', 'currency': 'US$', 'value': '274'}, {'name': 'PLUS', 'currency': 'US$', 'value': '305'}, {'name': 'TOP', 'currency': 'US$', 'value': '1,101'}], 'stops': [{'departure_city': 'MEX', 'departure_time': '16:10', 'arrival_city': 'MEX', 'arrival_time': '16:10', 'flight_duration': '5:50', 'plane_number': 'Flight', 'plane_model': 'Boeing 767-300', 'scale_duration': '2:15'}, {'departure_city': 'LIM', 'departure_time': '00:15', 'arrival_city': 'LIM', 'arrival_time': '00:15', 'flight_duration': '3:34', 'plane_number': 'Flight', 'plane_model': 'Airbus 320-200', 'scale_duration': '1:11'}, {'departure_city': 'SCL', 'departure_time': '06:00', 'arrival_city': 'SCL', 'arrival_time': '06:00', 'flight_duration': '3:50', 'plane_number': 'Flight', 'plane_model': 'Airbus 320-200', 'scale_duration': '0:00'}]}, {'times': {'departure_time': '16:10', 'arrival_time': '12:45', 'PT18H35M': 'duration'}, 'prices': [{'name': 'PROMO', 'currency': 'US$', 'value': '264'}, {'name': 'LIGHT', 'currency': 'US$', 'value': '274'}, {'name': 'PLUS', 'currency': 'US$', 'value': '305'}, {'name': 'TOP', 'currency': 'US$', 'value': '1,101'}], 'stops': [{'departure_city': 'MEX', 'departure_time': '16:10', 'arrival_city': 'MEX', 'arrival_time': '16:10', 'flight_duration': '5:50', 'plane_number': 'Flight', 'plane_model': 'Boeing 767-300', 'scale_duration': '2:15'}, {'departure_city': 'LIM', 'departure_time': '00:15', 'arrival_city': 'LIM', 'arrival_time': '00:15', 'flight_duration': '3:34', 'plane_number': 'Flight', 'plane_model': 'Airbus 320-200', 'scale_duration': '3:16'}, {'departure_city': 'SCL', 'departure_time': '08:05', 'arrival_city': 'SCL', 'arrival_time': '08:05', 'flight_duration': '3:40', 'plane_number': 'Flight', 'plane_model': 'Boeing 787-9', 'scale_duration': '0:00'}]}, {'times': {'departure_time': '01:40', 'arrival_time': '22:55', 'PT19H15M': 'duration'}, 'prices': [{'name': 'PROMO', 'currency': 'US$', 'value': '274'}, {'name': 'LIGHT', 'currency': 'US$', 'value': '285'}, {'name': 'PLUS', 'currency': 'US$', 'value': '318'}, {'name': 'TOP', 'currency': 'US$', 'value': '756'}], 'stops': [{'departure_city': 'MEX', 'departure_time': '01:40', 'arrival_city': 'MEX', 'arrival_time': '01:40', 'flight_duration': '4:40', 'plane_number': 'Flight', 'plane_model': 'Airbus 320-200', 'scale_duration': '3:25'}, {'departure_city': 'BOG', 'departure_time': '09:45', 'arrival_city': 'BOG', 'arrival_time': '09:45', 'flight_duration': '5:45', 'plane_number': 'Flight', 'plane_model': 'Boeing 787-800', 'scale_duration': '1:30'}, {'departure_city': 'SCL', 'departure_time': '18:00', 'arrival_city': 'SCL', 'arrival_time': '18:00', 'flight_duration': '3:55', 'plane_number': 'Flight', 'plane_model': 'Airbus 320-200', 'scale_duration': '0:00'}]}]\n"
     ]
    }
   ],
   "source": [
    "url = \"https://www.latam.com/en_un/apps/personas/booking?fecha1_dia=30&fecha1_anomes=2020-06&fecha2_dia=31&fecha2_anomes=2020-07&from_city2=SAO&to_city2=MEX&auAvailability=1&ida_vuelta=ida_vuelta&vuelos_origen=Mexico%20City&from_city1=MEX&vuelos_destino=Sao%20Paulo&to_city1=SAO&flex=1&vuelos_fecha_salida_ddmmaaaa=07/05/2020&vuelos_fecha_regreso_ddmmaaaa=09/06/2020&cabina=Y&nadults=1&nchildren=0&ninfants=0&cod_promo=&stopover_outbound_days=0&stopover_inbound_days=0&application=#/\"\n",
    "class_flight = '\"flight\"'\n",
    "\n",
    "options = webdriver.ChromeOptions()\n",
    "options.add_argument('--incognito')\n",
    "driverChrome = webdriver.Chrome(executable_path='./chromedriver', options=options)\n",
    "driverChrome.get(url)\n",
    "\n",
    "#Dynamic delay\n",
    "delay = 10\n",
    "try: \n",
    "    #adding delay\n",
    "    flight = WebDriverWait(driverChrome,delay).until(EC.presence_of_element_located((By.XPATH, f'//li[@class = {class_flight}]')))\n",
    "    print('Page loaded')\n",
    "    flights_info = get_info(driverChrome)\n",
    "except TimeoutException:\n",
    "    print('Timeout')\n",
    "    flights_info = []\n",
    "driverChrome.close()\n",
    "print(flights_info)"
   ]
  },
  {
   "cell_type": "code",
   "execution_count": null,
   "metadata": {},
   "outputs": [],
   "source": []
  },
  {
   "cell_type": "markdown",
   "metadata": {},
   "source": [
    "# << Draft >>"
   ]
  },
  {
   "cell_type": "code",
   "execution_count": 7,
   "metadata": {},
   "outputs": [],
   "source": [
    "#response = requests.get(url)\n",
    "#response.status_code"
   ]
  },
  {
   "cell_type": "code",
   "execution_count": 8,
   "metadata": {},
   "outputs": [],
   "source": [
    "#s = bs(response.text, 'lxml')"
   ]
  },
  {
   "cell_type": "code",
   "execution_count": 9,
   "metadata": {},
   "outputs": [],
   "source": [
    "#sleep(5)\n",
    "#button_close = driverChrome.find_element_by_xpath('//button[@class=\"close\"]')\n",
    "#button_close.click()\n"
   ]
  },
  {
   "cell_type": "markdown",
   "metadata": {},
   "source": [
    "### Selecting elements"
   ]
  },
  {
   "cell_type": "code",
   "execution_count": 10,
   "metadata": {},
   "outputs": [],
   "source": [
    "#sleep(3)\n",
    "#flights = driverChrome.find_elements_by_xpath('//li[@class=\"flight\"]')\n",
    "\n",
    "# #xpath version\n",
    "# flight = flights[-1]\n",
    "# departure_time = flight.find_element_by_xpath('.//div[@class=\"departure\"]/time').get_attribute('datetime')\n",
    "# arrival_time = flight.find_element_by_xpath('.//div[@class=\"arrival\"]/time').get_attribute('datetime')\n",
    "# duration = flight.find_element_by_xpath('.//span[@class=\"duration\"]/time').get_attribute('datetime')\n",
    "# print(departure_time)\n",
    "# print(arrival_time)\n",
    "# print(duration)\n",
    "\n",
    "# #CSS selectors version\n",
    "# flight2 = flights[0] \n",
    "# flight2_data = {}\n",
    "# flight2_data['departure'] = flight2.find_element_by_css_selector('.departure > time').get_attribute('datetime')\n",
    "# flight2_data['arrival'] = flight2.find_element_by_css_selector('.arrival > time').get_attribute('datetime')\n",
    "# flight2_data['duration'] = flight2.find_element_by_css_selector('.duration > time').get_attribute('datetime')\n",
    "# print(flight2_data)\n",
    "\n"
   ]
  },
  {
   "cell_type": "markdown",
   "metadata": {},
   "source": [
    "### Interacting with selectors\n",
    "#### Getting stops"
   ]
  },
  {
   "cell_type": "code",
   "execution_count": 11,
   "metadata": {},
   "outputs": [],
   "source": [
    "# #finds the stops button\n",
    "# class_flight_stops = '\"flight-summary-stops-description\"'\n",
    "# button_scales = flight.find_element_by_xpath(f'.//div[@class={class_flight_stops}]/button')\n",
    "# button_scales.click()\n"
   ]
  },
  {
   "cell_type": "code",
   "execution_count": 12,
   "metadata": {},
   "outputs": [],
   "source": [
    "# #gets the stops and connections\n",
    "# class_segments = '\"sc-hZSUBg gfeULV\"'\n",
    "# class_each_segment = '\"sc-cLQEGU hyoued\"'\n",
    "# class_connections = '\"sc-cLQEGU dnKRNG\"'\n",
    "# stops = flight.find_elements_by_xpath(f'//div[@class={class_segments}]/div[@class={class_each_segment}]')\n",
    "# connections = flight.find_elements_by_xpath(f'//div[@class={class_segments}]/div[@class={class_connections}]')\n",
    "# stops_number = len(connections)\n",
    "# stops_number"
   ]
  },
  {
   "cell_type": "code",
   "execution_count": 13,
   "metadata": {
    "scrolled": true
   },
   "outputs": [],
   "source": [
    "# ## Gets stops information\n",
    "# #class names\n",
    "# class_departure = '\"sc-bwCtUz iybVbT\"'\n",
    "# class_arrival = '\"sc-bwCtUz iybVbT\"'\n",
    "# class_flight_duration = '\"sc-esjQYD dMquDU\"'\n",
    "# class_scale_duration = '\"sc-esjQYD dMquDU\"'\n",
    "# class_airline_details = '\"airline-flight-details\"'\n",
    "# class_plane_number = '\"sr-only\"'\n",
    "# class_plane_model = '\"sc-gzOgki uTyOl\"'\n",
    "\n",
    "# #Adding stops into a dictionary\n",
    "# stops_data = {}\n",
    "# stops_data = [{'stop_object': stop} for stop in stops]\n",
    "\n",
    "# #Adding connections into the dictionary\n",
    "# for n in range(len(stops)):\n",
    "#     try:\n",
    "#         stops_data[n]['connection_object'] = connections[n]\n",
    "#     except:\n",
    "#          stops_data[n]['connection_object'] = None\n",
    "# #Adding stops information into the dictionary\n",
    "# for stop in stops_data:\n",
    "#     stop['departure_city'] = stop['stop_object'].find_element_by_xpath(f'.//div[@class={class_departure}]/abbr').text\n",
    "#     stop['departure_time'] = stop['stop_object'].find_element_by_xpath(f'.//div[@class={class_departure}]/time').get_attribute('datetime')\n",
    "#     stop['arrival_city'] = stop['stop_object'].find_element_by_xpath(f'.//div[@class={class_arrival}]/abbr').text\n",
    "#     stop['arrival_time'] = stop['stop_object'].find_element_by_xpath(f'.//div[@class={class_arrival}]/time').get_attribute('datetime')\n",
    "#     stop['flight_duration'] = stop['stop_object'].find_element_by_xpath(f'.//span[@class={class_flight_duration}]/time').get_attribute('datetime')\n",
    "#     stop['plane_number'] = stop['stop_object'].find_element_by_xpath(f'.//div[@class={class_airline_details}]/span[@class={class_plane_number}]').text\n",
    "#     stop['plane_model'] = stop['stop_object'].find_element_by_xpath(f'.//div[@class={class_airline_details}]/span[@class={class_plane_model}]').text\n",
    "#     try:\n",
    "#         stop['scale_duration'] = stop['connection_object'].find_element_by_xpath(f'.//span[@class={class_scale_duration}]/time').get_attribute('datetime')\n",
    "#     except:\n",
    "#         stop['scale_duration']= '0:00'\n",
    "#     print(stop)"
   ]
  },
  {
   "cell_type": "code",
   "execution_count": 14,
   "metadata": {
    "scrolled": true
   },
   "outputs": [],
   "source": [
    "# driverChrome.find_element_by_xpath('//button[@class=\"close\"]').click()\n"
   ]
  },
  {
   "cell_type": "code",
   "execution_count": 15,
   "metadata": {},
   "outputs": [],
   "source": [
    "# class_fares_container = '\"fares-table-container\"'\n",
    "# class_td = '\"fare-\"'\n",
    "# fares = flight.find_elements_by_xpath(f'//div[@class = {class_fares_container}]//tfoot//td[contains(@class, {class_td})]')\n",
    "# fares = [{'fare_object': fare} for fare in fares]\n",
    "\n",
    "# class_currency ='\"currency-symbol\"' \n",
    "# class_value = '\"value\"'\n",
    "# class_name = '\"radio\"'\n",
    "# for fare in fares:\n",
    "#     fare['name'] = fare['fare_object'].find_element_by_xpath(f'.//div[@class = {class_name}]/label').get_attribute('for')\n",
    "#     fare['currency'] = fare['fare_object'].find_element_by_xpath(f'.//span[@class = {class_currency}]').text\n",
    "#     fare['value'] = fare['fare_object'].find_element_by_xpath(f'.//span[@class = {class_value}]').text\n",
    "# fares"
   ]
  },
  {
   "cell_type": "code",
   "execution_count": 16,
   "metadata": {},
   "outputs": [],
   "source": [
    "# for flight in flights:\n",
    "#     print(flight)\n",
    "#     print(get_timing(flight))\n",
    "#     print(get_prices(flight))\n",
    "#     print(get_stops(flight))\n",
    "\n",
    "#    print('*************************************')"
   ]
  }
 ],
 "metadata": {
  "kernelspec": {
   "display_name": "Python 3",
   "language": "python",
   "name": "python3"
  },
  "language_info": {
   "codemirror_mode": {
    "name": "ipython",
    "version": 3
   },
   "file_extension": ".py",
   "mimetype": "text/x-python",
   "name": "python",
   "nbconvert_exporter": "python",
   "pygments_lexer": "ipython3",
   "version": "3.7.6"
  }
 },
 "nbformat": 4,
 "nbformat_minor": 4
}
